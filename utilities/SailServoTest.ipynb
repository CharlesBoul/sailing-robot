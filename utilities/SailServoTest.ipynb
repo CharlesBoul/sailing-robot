{
 "cells": [
  {
   "cell_type": "code",
   "execution_count": 84,
   "metadata": {
    "collapsed": true
   },
   "outputs": [],
   "source": [
    "import numpy as np\n",
    "pullypivotdistance = 0.31 \n",
    "boomsheetdistance = 0.31\n",
    "boomheight = 0.07\n",
    "sailservorange = 800\n",
    "sailservoneturalpoint = 1500 \n",
    "sailservoPWMoffset = -100\n",
    " \n",
    "         \n",
    "def sailPWM(sail_angle):\n",
    "\tsheetlength2D = np.sqrt(pullypivotdistance**2 + boomsheetdistance**2 -\\\n",
    "\t2*pullypivotdistance*boomsheetdistance*np.cos(1.0*sail_angle/180*np.pi))\n",
    "\tsheetlength = np.sqrt(sheetlength2D**2 + boomheight**2)\n",
    "\tdegrees = sheetlength*1000/(25)/np.pi*180\n",
    "\tpwm = sailservorange*(1.0*degrees-630)/1260 + sailservoneturalpoint + \\\n",
    "\t\tsailservoPWMoffset;\n",
    "\treturn pwm"
   ]
  },
  {
   "cell_type": "code",
   "execution_count": 91,
   "metadata": {
    "collapsed": false
   },
   "outputs": [
    {
     "data": {
      "text/plain": [
       "(1101.859163578813, 1646.0191287843068)"
      ]
     },
     "execution_count": 91,
     "metadata": {},
     "output_type": "execute_result"
    }
   ],
   "source": [
    "sailPWM(0),sailPWM(90)"
   ]
  }
 ],
 "metadata": {
  "kernelspec": {
   "display_name": "Python 2",
   "language": "python",
   "name": "python2"
  },
  "language_info": {
   "codemirror_mode": {
    "name": "ipython",
    "version": 2
   },
   "file_extension": ".py",
   "mimetype": "text/x-python",
   "name": "python",
   "nbconvert_exporter": "python",
   "pygments_lexer": "ipython2",
   "version": "2.7.11"
  }
 },
 "nbformat": 4,
 "nbformat_minor": 0
}
